{
 "cells": [
  {
   "cell_type": "code",
   "execution_count": 1,
   "metadata": {},
   "outputs": [],
   "source": [
    "from splinter import Browser\n",
    "from bs4 import BeautifulSoup as soup\n",
    "from webdriver_manager.chrome import ChromeDriverManager"
   ]
  },
  {
   "cell_type": "code",
   "execution_count": 2,
   "metadata": {},
   "outputs": [
    {
     "name": "stderr",
     "output_type": "stream",
     "text": [
      "\n",
      "\n",
      "====== WebDriver manager ======\n",
      "Current google-chrome version is 94.0.4606\n",
      "Get LATEST driver version for 94.0.4606\n",
      "Driver [C:\\Users\\cdean\\.wdm\\drivers\\chromedriver\\win32\\94.0.4606.61\\chromedriver.exe] found in cache\n"
     ]
    }
   ],
   "source": [
    "# Set up Splinter\n",
    "executable_path = {'executable_path': ChromeDriverManager().install()}\n",
    "browser = Browser('chrome', **executable_path, headless=False)"
   ]
  },
  {
   "cell_type": "code",
   "execution_count": 3,
   "metadata": {},
   "outputs": [],
   "source": [
    "# Visit the Quotes to Scrape site\n",
    "url = 'http://quotes.toscrape.com/'\n",
    "browser.visit(url)"
   ]
  },
  {
   "cell_type": "code",
   "execution_count": 4,
   "metadata": {},
   "outputs": [],
   "source": [
    "# Parse the HTML\n",
    "html = browser.html\n",
    "html_soup = soup(html, 'html.parser')"
   ]
  },
  {
   "cell_type": "code",
   "execution_count": 5,
   "metadata": {},
   "outputs": [
    {
     "data": {
      "text/plain": [
       "'Top Ten tags'"
      ]
     },
     "execution_count": 5,
     "metadata": {},
     "output_type": "execute_result"
    }
   ],
   "source": [
    "# Scrape the Title\n",
    "title = html_soup.find('h2').text\n",
    "title"
   ]
  },
  {
   "cell_type": "code",
   "execution_count": 6,
   "metadata": {},
   "outputs": [
    {
     "name": "stdout",
     "output_type": "stream",
     "text": [
      "love\n",
      "inspirational\n",
      "life\n",
      "humor\n",
      "books\n",
      "reading\n",
      "friendship\n",
      "friends\n",
      "truth\n",
      "simile\n"
     ]
    }
   ],
   "source": [
    "# Scrape the top ten tags\n",
    "tag_box = html_soup.find('div', class_='tags-box')\n",
    "\n",
    "# tag_box\n",
    "tags = tag_box.find_all('a', class_='tag')\n",
    "\n",
    "word = [print(tag.text) for tag in tags]\n",
    "#for tag in tags:\n",
    " #   word = tag.text\n",
    "  #  print(word)"
   ]
  },
  {
   "cell_type": "code",
   "execution_count": 7,
   "metadata": {},
   "outputs": [
    {
     "name": "stdout",
     "output_type": "stream",
     "text": [
      "page: 1 -------\n",
      "“The world as we have created it is a process of our thinking. It cannot be changed without changing our thinking.”\n",
      "page: 1 -------\n",
      "“It is our choices, Harry, that show what we truly are, far more than our abilities.”\n",
      "page: 1 -------\n",
      "“There are only two ways to live your life. One is as though nothing is a miracle. The other is as though everything is a miracle.”\n",
      "page: 1 -------\n",
      "“The person, be it gentleman or lady, who has not pleasure in a good novel, must be intolerably stupid.”\n",
      "page: 1 -------\n",
      "“Imperfection is beauty, madness is genius and it's better to be absolutely ridiculous than absolutely boring.”\n",
      "page: 1 -------\n",
      "“Try not to become a man of success. Rather become a man of value.”\n",
      "page: 1 -------\n",
      "“It is better to be hated for what you are than to be loved for what you are not.”\n",
      "page: 1 -------\n",
      "“I have not failed. I've just found 10,000 ways that won't work.”\n",
      "page: 1 -------\n",
      "“A woman is like a tea bag; you never know how strong it is until it's in hot water.”\n",
      "page: 1 -------\n",
      "“A day without sunshine is like, you know, night.”\n",
      "page: 2 -------\n",
      "“The world as we have created it is a process of our thinking. It cannot be changed without changing our thinking.”\n",
      "page: 2 -------\n",
      "“It is our choices, Harry, that show what we truly are, far more than our abilities.”\n",
      "page: 2 -------\n",
      "“There are only two ways to live your life. One is as though nothing is a miracle. The other is as though everything is a miracle.”\n",
      "page: 2 -------\n",
      "“The person, be it gentleman or lady, who has not pleasure in a good novel, must be intolerably stupid.”\n",
      "page: 2 -------\n",
      "“Imperfection is beauty, madness is genius and it's better to be absolutely ridiculous than absolutely boring.”\n",
      "page: 2 -------\n",
      "“Try not to become a man of success. Rather become a man of value.”\n",
      "page: 2 -------\n",
      "“It is better to be hated for what you are than to be loved for what you are not.”\n",
      "page: 2 -------\n",
      "“I have not failed. I've just found 10,000 ways that won't work.”\n",
      "page: 2 -------\n",
      "“A woman is like a tea bag; you never know how strong it is until it's in hot water.”\n",
      "page: 2 -------\n",
      "“A day without sunshine is like, you know, night.”\n",
      "page: 3 -------\n",
      "“The world as we have created it is a process of our thinking. It cannot be changed without changing our thinking.”\n",
      "page: 3 -------\n",
      "“It is our choices, Harry, that show what we truly are, far more than our abilities.”\n",
      "page: 3 -------\n",
      "“There are only two ways to live your life. One is as though nothing is a miracle. The other is as though everything is a miracle.”\n",
      "page: 3 -------\n",
      "“The person, be it gentleman or lady, who has not pleasure in a good novel, must be intolerably stupid.”\n",
      "page: 3 -------\n",
      "“Imperfection is beauty, madness is genius and it's better to be absolutely ridiculous than absolutely boring.”\n",
      "page: 3 -------\n",
      "“Try not to become a man of success. Rather become a man of value.”\n",
      "page: 3 -------\n",
      "“It is better to be hated for what you are than to be loved for what you are not.”\n",
      "page: 3 -------\n",
      "“I have not failed. I've just found 10,000 ways that won't work.”\n",
      "page: 3 -------\n",
      "“A woman is like a tea bag; you never know how strong it is until it's in hot water.”\n",
      "page: 3 -------\n",
      "“A day without sunshine is like, you know, night.”\n",
      "page: 4 -------\n",
      "“The world as we have created it is a process of our thinking. It cannot be changed without changing our thinking.”\n",
      "page: 4 -------\n",
      "“It is our choices, Harry, that show what we truly are, far more than our abilities.”\n",
      "page: 4 -------\n",
      "“There are only two ways to live your life. One is as though nothing is a miracle. The other is as though everything is a miracle.”\n",
      "page: 4 -------\n",
      "“The person, be it gentleman or lady, who has not pleasure in a good novel, must be intolerably stupid.”\n",
      "page: 4 -------\n",
      "“Imperfection is beauty, madness is genius and it's better to be absolutely ridiculous than absolutely boring.”\n",
      "page: 4 -------\n",
      "“Try not to become a man of success. Rather become a man of value.”\n",
      "page: 4 -------\n",
      "“It is better to be hated for what you are than to be loved for what you are not.”\n",
      "page: 4 -------\n",
      "“I have not failed. I've just found 10,000 ways that won't work.”\n",
      "page: 4 -------\n",
      "“A woman is like a tea bag; you never know how strong it is until it's in hot water.”\n",
      "page: 4 -------\n",
      "“A day without sunshine is like, you know, night.”\n",
      "page: 5 -------\n",
      "“The world as we have created it is a process of our thinking. It cannot be changed without changing our thinking.”\n",
      "page: 5 -------\n",
      "“It is our choices, Harry, that show what we truly are, far more than our abilities.”\n",
      "page: 5 -------\n",
      "“There are only two ways to live your life. One is as though nothing is a miracle. The other is as though everything is a miracle.”\n",
      "page: 5 -------\n",
      "“The person, be it gentleman or lady, who has not pleasure in a good novel, must be intolerably stupid.”\n",
      "page: 5 -------\n",
      "“Imperfection is beauty, madness is genius and it's better to be absolutely ridiculous than absolutely boring.”\n",
      "page: 5 -------\n",
      "“Try not to become a man of success. Rather become a man of value.”\n",
      "page: 5 -------\n",
      "“It is better to be hated for what you are than to be loved for what you are not.”\n",
      "page: 5 -------\n",
      "“I have not failed. I've just found 10,000 ways that won't work.”\n",
      "page: 5 -------\n",
      "“A woman is like a tea bag; you never know how strong it is until it's in hot water.”\n",
      "page: 5 -------\n",
      "“A day without sunshine is like, you know, night.”\n"
     ]
    }
   ],
   "source": [
    "# Scrape the quotes from first 5 pages\n",
    "for i in range(1, 6):    \n",
    "    quotes = html_soup.find_all('span', class_='text')\n",
    "    for quote in quotes:\n",
    "        print('page:', i, '-' * 7)\n",
    "        print(quote.text)\n",
    "    browser.links.find_by_partial_text('Next')"
   ]
  },
  {
   "cell_type": "code",
   "execution_count": 8,
   "metadata": {},
   "outputs": [],
   "source": [
    "book_url = 'http://books.toscrape.com/'\n",
    "browser.visit(book_url)\n",
    "book_html = browser.html\n",
    "book_soup = soup(book_html, 'html.parser')"
   ]
  },
  {
   "cell_type": "code",
   "execution_count": 11,
   "metadata": {},
   "outputs": [
    {
     "name": "stdout",
     "output_type": "stream",
     "text": [
      "\n",
      "A Light in the ...\n",
      "\n",
      "Tipping the Velvet\n",
      "\n",
      "Soumission\n",
      "\n",
      "Sharp Objects\n",
      "\n",
      "Sapiens: A Brief History ...\n",
      "\n",
      "The Requiem Red\n",
      "\n",
      "The Dirty Little Secrets ...\n",
      "\n",
      "The Coming Woman: A ...\n",
      "\n",
      "The Boys in the ...\n",
      "\n",
      "The Black Maria\n",
      "\n",
      "Starving Hearts (Triangular Trade ...\n",
      "\n",
      "Shakespeare's Sonnets\n",
      "\n",
      "Set Me Free\n",
      "\n",
      "Scott Pilgrim's Precious Little ...\n",
      "\n",
      "Rip it Up and ...\n",
      "\n",
      "Our Band Could Be ...\n",
      "\n",
      "Olio\n",
      "\n",
      "Mesaerion: The Best Science ...\n",
      "\n",
      "Libertarianism for Beginners\n",
      "\n",
      "It's Only the Himalayas\n"
     ]
    }
   ],
   "source": [
    "book_box = book_soup.find('ol', class_='row')\n",
    "book_links = book_box.find_all('a')\n",
    "\n",
    "for link in book_links:\n",
    "    print(link.text)"
   ]
  }
 ],
 "metadata": {
  "interpreter": {
   "hash": "31e5de16cd2653dab55601d1a8dbb65d5bfcb5e37c58103bf717bd42fcbdf8d3"
  },
  "kernelspec": {
   "display_name": "Python 3.7.11 64-bit ('PythonData': conda)",
   "name": "python3"
  },
  "language_info": {
   "codemirror_mode": {
    "name": "ipython",
    "version": 3
   },
   "file_extension": ".py",
   "mimetype": "text/x-python",
   "name": "python",
   "nbconvert_exporter": "python",
   "pygments_lexer": "ipython3",
   "version": "3.7.11"
  },
  "orig_nbformat": 4
 },
 "nbformat": 4,
 "nbformat_minor": 2
}
